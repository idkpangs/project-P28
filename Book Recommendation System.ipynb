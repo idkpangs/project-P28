{
 "cells": [
  {
   "cell_type": "code",
   "execution_count": 2,
   "id": "bc9c9ef1",
   "metadata": {},
   "outputs": [],
   "source": [
    "import numpy as np\n",
    "import pandas as pd\n",
    "from sklearn.metrics.pairwise import cosine_similarity\n",
    "from sklearn.feature_extraction.text import CountVectorizer\n",
    "pd.options.mode.chained_assignment = None "
   ]
  },
  {
   "cell_type": "code",
   "execution_count": 3,
   "id": "59f17607",
   "metadata": {},
   "outputs": [],
   "source": [
    "df = pd.read_csv(\"Books.csv\")"
   ]
  },
  {
   "cell_type": "code",
   "execution_count": 4,
   "id": "ff825677",
   "metadata": {},
   "outputs": [],
   "source": [
    "def combined_features(row):\n",
    "    return str(row[\"title\"])+\" \"+str(row[\"authors\"])+\" \"+str(row[\"publisher\"])\n",
    "df[\"combined_features\"] = df.apply(combined_features, axis =1)"
   ]
  },
  {
   "cell_type": "code",
   "execution_count": 5,
   "id": "bda9a8cb",
   "metadata": {},
   "outputs": [
    {
     "name": "stdout",
     "output_type": "stream",
     "text": [
      "Count Matrix: [[0 0 0 ... 0 0 0]\n",
      " [0 0 0 ... 0 0 0]\n",
      " [0 0 0 ... 0 0 0]\n",
      " ...\n",
      " [0 0 0 ... 0 0 0]\n",
      " [0 0 0 ... 0 0 0]\n",
      " [0 0 0 ... 0 0 0]]\n"
     ]
    }
   ],
   "source": [
    "cv = CountVectorizer()\n",
    "count_matrix = cv.fit_transform(df[\"combined_features\"])\n",
    "print(\"Count Matrix:\", count_matrix.toarray())"
   ]
  },
  {
   "cell_type": "code",
   "execution_count": 6,
   "id": "f1b4cd40",
   "metadata": {},
   "outputs": [],
   "source": [
    "cs = cosine_similarity(count_matrix)"
   ]
  },
  {
   "cell_type": "code",
   "execution_count": 23,
   "id": "ffa6d367",
   "metadata": {},
   "outputs": [],
   "source": [
    "book_user_likes = \"Harry Potter and the Chamber of Secrets (Harry Potter  #2)\"\n",
    "def get_id(title):\n",
    "    return df[df.title == title][\"bookID\"].values[0]\n",
    "book_ID = get_id(book_user_likes)"
   ]
  },
  {
   "cell_type": "code",
   "execution_count": 24,
   "id": "f0d43663",
   "metadata": {},
   "outputs": [],
   "source": [
    "similar_books = list(enumerate(cs[book_ID]))\n",
    "del similar_books[0]"
   ]
  },
  {
   "cell_type": "code",
   "execution_count": 25,
   "id": "5630736f",
   "metadata": {},
   "outputs": [],
   "source": [
    "sorted_similar_books = sorted(similar_books, key=lambda x:x[1], reverse=True)"
   ]
  },
  {
   "cell_type": "code",
   "execution_count": 26,
   "id": "1393bd62",
   "metadata": {},
   "outputs": [
    {
     "name": "stdout",
     "output_type": "stream",
     "text": [
      "Harry Potter and the Chamber of Secrets (Harry Potter  #2)\n",
      "Harry Potter and the Half-Blood Prince (Harry Potter  #6)\n",
      "Truth and Fiction in The Da Vinci Code: A Historian Reveals What We Really Know about Jesus  Mary Magdalene & Constantine\n",
      "Harrius Potter et Philosophi Lapis\n",
      "Harry Potter and the Order of the Phoenix (Harry Potter  #5)\n",
      "Harry Potter and the Prisoner of Azkaban (Harry Potter  #3)\n",
      "Harry Potter and the Philosopher's Stone (Harry Potter  #1)\n",
      "Unauthorized Harry Potter Book Seven News: \"Half-Blood Prince\" Analysis and Speculation\n",
      "Dr. Jekyll and Mr. Hyde (Bullseye Chillers)\n",
      "J.K. Rowling's Harry Potter Novels: A Reader's Guide\n",
      "Dornen des Glücks (Das Erbe von Foxworth Hall  #3)\n",
      "Open City 6: The Only Woman He Ever Left\n",
      "Harry Potter y el misterio del príncipe (Harry Potter  #6)\n",
      "Das Zauberer-Handbuch - Die Magische Welt der Joanne K. Rowling von A bis Z\n",
      "Harry Potter ve Sırlar Odası (Harry Potter  #2)\n",
      "Mugglenet.Com's What Will Happen in Harry Potter 7: Who Lives  Who Dies  Who Falls in Love and How Will the Adventure Finally End?\n"
     ]
    }
   ],
   "source": [
    "def get_title(index):\n",
    "    return df[df.bookID == index][\"title\"].values[0]\n",
    "i=0\n",
    "for book in sorted_similar_books:\n",
    "    print(get_title(book[0]))\n",
    "    i+=1\n",
    "    if i>15:\n",
    "        break"
   ]
  },
  {
   "cell_type": "code",
   "execution_count": null,
   "id": "91b6a5d9",
   "metadata": {},
   "outputs": [],
   "source": []
  }
 ],
 "metadata": {
  "kernelspec": {
   "display_name": "Python 3",
   "language": "python",
   "name": "python3"
  },
  "language_info": {
   "codemirror_mode": {
    "name": "ipython",
    "version": 3
   },
   "file_extension": ".py",
   "mimetype": "text/x-python",
   "name": "python",
   "nbconvert_exporter": "python",
   "pygments_lexer": "ipython3",
   "version": "3.8.8"
  }
 },
 "nbformat": 4,
 "nbformat_minor": 5
}
